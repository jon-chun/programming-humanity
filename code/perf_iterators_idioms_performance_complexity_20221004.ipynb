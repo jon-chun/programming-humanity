{
  "nbformat": 4,
  "nbformat_minor": 0,
  "metadata": {
    "colab": {
      "provenance": [],
      "collapsed_sections": [],
      "toc_visible": true
    },
    "kernelspec": {
      "name": "python3",
      "display_name": "Python 3"
    },
    "language_info": {
      "name": "python"
    },
    "gpuClass": "standard",
    "accelerator": "GPU"
  },
  "cells": [
    {
      "cell_type": "markdown",
      "source": [
        "# Python Iterators, Idioms, Performance and Complexity\n",
        "\n",
        "01 Oct 2022 By Jon Chun"
      ],
      "metadata": {
        "id": "5Qdo6__7IOsi"
      }
    },
    {
      "cell_type": "markdown",
      "source": [
        "# Configure Notebook"
      ],
      "metadata": {
        "id": "DyCW0fmPeWhg"
      }
    },
    {
      "cell_type": "code",
      "source": [
        "from IPython.core.interactiveshell import InteractiveShell\n",
        "InteractiveShell.ast_node_interactivity = \"all\"\n"
      ],
      "metadata": {
        "id": "hhF7rdkceWU8"
      },
      "execution_count": null,
      "outputs": []
    },
    {
      "cell_type": "markdown",
      "source": [
        "# Import Libraries"
      ],
      "metadata": {
        "id": "ou9o3ONw34mt"
      }
    },
    {
      "cell_type": "code",
      "source": [
        "import numpy as np\n",
        "import pandas as pd\n",
        "import matplotlib.pyplot as plt\n",
        "import seaborn as sns"
      ],
      "metadata": {
        "id": "nXnrITSf34gx"
      },
      "execution_count": null,
      "outputs": []
    },
    {
      "cell_type": "code",
      "source": [
        "import time\n",
        "from random import random, shuffle"
      ],
      "metadata": {
        "id": "y-ifd9bhZhDD"
      },
      "execution_count": null,
      "outputs": []
    },
    {
      "cell_type": "code",
      "source": [
        "import itertools"
      ],
      "metadata": {
        "id": "lz9Ed22Abnd-"
      },
      "execution_count": null,
      "outputs": []
    },
    {
      "cell_type": "markdown",
      "source": [
        "# Build Data Sets\n",
        "\n"
      ],
      "metadata": {
        "id": "wR5McKj_3yE_"
      }
    },
    {
      "cell_type": "markdown",
      "source": [
        "## List"
      ],
      "metadata": {
        "id": "mk61O7-GbvE2"
      }
    },
    {
      "cell_type": "code",
      "source": [
        "ELEM_CT = 1_000_000"
      ],
      "metadata": {
        "id": "cymJnP5FbpQV"
      },
      "execution_count": null,
      "outputs": []
    },
    {
      "cell_type": "code",
      "source": [
        "# List of Random Numbers\n",
        "\n",
        "int_ls = [int(random()*10000) for x in range(ELEM_CT)]\n",
        "print(f'len(int_ls): {len(int_ls)}')\n",
        "int_ls[:10]"
      ],
      "metadata": {
        "id": "teKtVQox3x9R"
      },
      "execution_count": null,
      "outputs": []
    },
    {
      "cell_type": "code",
      "source": [
        "# What is wrong?\n",
        "\n",
        "len(list(set(int_ls)))"
      ],
      "metadata": {
        "id": "akvds3ene4zG"
      },
      "execution_count": null,
      "outputs": []
    },
    {
      "cell_type": "code",
      "source": [
        "# int_ls = [i for i in range(1000,1000+ELEM_CT,1)]\n",
        "\n",
        "int_ls = [i for i in range(ELEM_CT)]\n",
        "\n",
        "print(f'len(int_ls): {len(int_ls)}')\n",
        "int_ls[:10]\n",
        "print('\\n')\n",
        "\n",
        "%timeit shuffle(int_ls)\n",
        "int_ls[:10]"
      ],
      "metadata": {
        "id": "XJk1fqvLfI4C"
      },
      "execution_count": null,
      "outputs": []
    },
    {
      "cell_type": "code",
      "source": [
        "max(int_ls)"
      ],
      "metadata": {
        "id": "dXzTrmHSieU5"
      },
      "execution_count": null,
      "outputs": []
    },
    {
      "cell_type": "markdown",
      "source": [
        "## Set & Dict"
      ],
      "metadata": {
        "id": "V1ZdjHf5b19_"
      }
    },
    {
      "cell_type": "code",
      "source": [
        "!pip install english-words\n",
        "from english_words import english_words_lower_set\n",
        "\n",
        "type(english_words_lower_set)"
      ],
      "metadata": {
        "id": "cCMQC6V_aPH6"
      },
      "execution_count": null,
      "outputs": []
    },
    {
      "cell_type": "code",
      "source": [
        "len(english_words_lower_set)"
      ],
      "metadata": {
        "id": "FwbCopaEapAk"
      },
      "execution_count": null,
      "outputs": []
    },
    {
      "cell_type": "code",
      "source": [
        "for i, val in enumerate(int_ls):\n",
        "  if i >= 10:\n",
        "    break\n",
        "  print(f'List elem #{i}: {val}')\n",
        "print('\\n')\n",
        "\n",
        "int_set = set(int_ls)\n",
        "print(f'len(int_set): {len(int_set)}\\n')\n",
        "\n",
        "for i, val in enumerate(itertools.islice(int_set, 10)):\n",
        "  print(f'Set elem #{i}: {val}')"
      ],
      "metadata": {
        "id": "pRYLUUGzjZTo"
      },
      "execution_count": null,
      "outputs": []
    },
    {
      "cell_type": "code",
      "source": [
        "words_dt = {}\n",
        "words_set = ()\n",
        "\n",
        "int_dt = {}\n",
        "int_set = ()\n",
        "\n",
        "for i, val in enumerate(itertools.islice(english_words_lower_set, ELEM_CT)):\n",
        "  # print(f'#{i}: {val}')\n",
        "  words_dt[i] = val\n",
        "\n",
        "for i in range(ELEM_CT):\n",
        "  int_dt[i] = int_ls[i]\n",
        "\n",
        "print(f'len(words_dt): {len(words_dt)}')\n",
        "dict(itertools.islice(words_dt.items(),5))\n",
        "print('\\n')\n",
        "\n",
        "print(f'len(int_dt): {len(int_dt)}')\n",
        "dict(itertools.islice(int_dt.items(),5))"
      ],
      "metadata": {
        "id": "fCbWlb4QcVkF"
      },
      "execution_count": null,
      "outputs": []
    },
    {
      "cell_type": "code",
      "source": [
        "dict(itertools.islice(words_dt.items(),2))"
      ],
      "metadata": {
        "id": "mPfbes5KdpM7"
      },
      "execution_count": null,
      "outputs": []
    },
    {
      "cell_type": "code",
      "source": [
        "loop_ct = 0\n",
        "for elem in iter(english_words_lower_set):\n",
        "  loop_ct += 1\n",
        "  if loop_ct > 10:\n",
        "    break\n",
        "  print(elem)"
      ],
      "metadata": {
        "id": "GdWwbpxla5UG"
      },
      "execution_count": null,
      "outputs": []
    },
    {
      "cell_type": "markdown",
      "source": [
        "## Pandas DataFrame"
      ],
      "metadata": {
        "id": "SJZE1euckqWw"
      }
    },
    {
      "cell_type": "code",
      "source": [
        "# int_df = pd.DataFrame.from_dict({'key':int_dt.keys(),'val':int_dt.values()})\n",
        "\n",
        "int_df = pd.DataFrame.from_dict(int_dt, orient='index', columns=['val'])\n",
        "\n",
        "int_df.head()\n",
        "\n",
        "int_df.info()"
      ],
      "metadata": {
        "id": "Wie1oTfr32ku"
      },
      "execution_count": null,
      "outputs": []
    },
    {
      "cell_type": "markdown",
      "source": [
        "# The Iterator Type in Python"
      ],
      "metadata": {
        "id": "FEy5oiA16nY_"
      }
    },
    {
      "cell_type": "markdown",
      "source": [
        "![Python-Iterator-3.png](data:image/png;base64,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)"
      ],
      "metadata": {
        "id": "EAHPt1PE9ZaZ"
      }
    },
    {
      "cell_type": "code",
      "source": [
        "test_ls = [100, 101, 102, 103, 104]\n"
      ],
      "metadata": {
        "id": "K36Sinn66nNu"
      },
      "execution_count": null,
      "outputs": []
    },
    {
      "cell_type": "code",
      "source": [
        "dir(test_ls)"
      ],
      "metadata": {
        "colab": {
          "base_uri": "https://localhost:8080/"
        },
        "id": "DOJzRJ9r7X8L",
        "outputId": "dc10f3e4-1b71-4227-8b0a-d7b5d9af107d"
      },
      "execution_count": null,
      "outputs": [
        {
          "output_type": "execute_result",
          "data": {
            "text/plain": [
              "['__add__',\n",
              " '__class__',\n",
              " '__contains__',\n",
              " '__delattr__',\n",
              " '__delitem__',\n",
              " '__dir__',\n",
              " '__doc__',\n",
              " '__eq__',\n",
              " '__format__',\n",
              " '__ge__',\n",
              " '__getattribute__',\n",
              " '__getitem__',\n",
              " '__gt__',\n",
              " '__hash__',\n",
              " '__iadd__',\n",
              " '__imul__',\n",
              " '__init__',\n",
              " '__init_subclass__',\n",
              " '__iter__',\n",
              " '__le__',\n",
              " '__len__',\n",
              " '__lt__',\n",
              " '__mul__',\n",
              " '__ne__',\n",
              " '__new__',\n",
              " '__reduce__',\n",
              " '__reduce_ex__',\n",
              " '__repr__',\n",
              " '__reversed__',\n",
              " '__rmul__',\n",
              " '__setattr__',\n",
              " '__setitem__',\n",
              " '__sizeof__',\n",
              " '__str__',\n",
              " '__subclasshook__',\n",
              " 'append',\n",
              " 'clear',\n",
              " 'copy',\n",
              " 'count',\n",
              " 'extend',\n",
              " 'index',\n",
              " 'insert',\n",
              " 'pop',\n",
              " 'remove',\n",
              " 'reverse',\n",
              " 'sort']"
            ]
          },
          "metadata": {},
          "execution_count": 224
        }
      ]
    },
    {
      "cell_type": "code",
      "source": [
        "type(test_ls.__iter__())"
      ],
      "metadata": {
        "colab": {
          "base_uri": "https://localhost:8080/"
        },
        "id": "SaBYHgYq7WrC",
        "outputId": "0f78b9a8-1044-4e54-8bcf-8e17892e6639"
      },
      "execution_count": null,
      "outputs": [
        {
          "output_type": "execute_result",
          "data": {
            "text/plain": [
              "list_iterator"
            ]
          },
          "metadata": {},
          "execution_count": 228
        }
      ]
    },
    {
      "cell_type": "code",
      "source": [
        "test_iter = test_ls.__iter__()  "
      ],
      "metadata": {
        "id": "8HzFU_Lt66V_"
      },
      "execution_count": null,
      "outputs": []
    },
    {
      "cell_type": "code",
      "source": [
        "dir(test_iter)"
      ],
      "metadata": {
        "colab": {
          "base_uri": "https://localhost:8080/"
        },
        "id": "mJmXCTDI8Jmu",
        "outputId": "81565208-8a10-45a2-e259-378e7a16a6da"
      },
      "execution_count": null,
      "outputs": [
        {
          "output_type": "execute_result",
          "data": {
            "text/plain": [
              "['__class__',\n",
              " '__delattr__',\n",
              " '__dir__',\n",
              " '__doc__',\n",
              " '__eq__',\n",
              " '__format__',\n",
              " '__ge__',\n",
              " '__getattribute__',\n",
              " '__gt__',\n",
              " '__hash__',\n",
              " '__init__',\n",
              " '__init_subclass__',\n",
              " '__iter__',\n",
              " '__le__',\n",
              " '__length_hint__',\n",
              " '__lt__',\n",
              " '__ne__',\n",
              " '__new__',\n",
              " '__next__',\n",
              " '__reduce__',\n",
              " '__reduce_ex__',\n",
              " '__repr__',\n",
              " '__setattr__',\n",
              " '__setstate__',\n",
              " '__sizeof__',\n",
              " '__str__',\n",
              " '__subclasshook__']"
            ]
          },
          "metadata": {},
          "execution_count": 232
        }
      ]
    },
    {
      "cell_type": "code",
      "source": [
        "test_iter.__next__()"
      ],
      "metadata": {
        "colab": {
          "base_uri": "https://localhost:8080/"
        },
        "id": "YxROjhZY66P6",
        "outputId": "b2bf1b2f-9534-43fc-c5e0-6cc3e6fca866"
      },
      "execution_count": null,
      "outputs": [
        {
          "output_type": "execute_result",
          "data": {
            "text/plain": [
              "100"
            ]
          },
          "metadata": {},
          "execution_count": 234
        }
      ]
    },
    {
      "cell_type": "code",
      "source": [
        "test_iter.__next__()"
      ],
      "metadata": {
        "colab": {
          "base_uri": "https://localhost:8080/"
        },
        "id": "0rC-R-H_8S-P",
        "outputId": "61e35615-04d9-4fc9-a37a-6b9e260542a4"
      },
      "execution_count": null,
      "outputs": [
        {
          "output_type": "execute_result",
          "data": {
            "text/plain": [
              "101"
            ]
          },
          "metadata": {},
          "execution_count": 235
        }
      ]
    },
    {
      "cell_type": "code",
      "source": [
        "%timeit for i in int_ls: pass"
      ],
      "metadata": {
        "colab": {
          "base_uri": "https://localhost:8080/"
        },
        "id": "cjJ9I_B793Vu",
        "outputId": "fbc18767-e449-4e43-9b2d-31d43590bfa1"
      },
      "execution_count": null,
      "outputs": [
        {
          "output_type": "stream",
          "name": "stdout",
          "text": [
            "46.6 ms ± 2.45 ms per loop (mean ± std. dev. of 7 runs, 10 loops each)\n"
          ]
        }
      ]
    },
    {
      "cell_type": "code",
      "source": [
        "%timeit for i in int_ls[:10_000]: pass"
      ],
      "metadata": {
        "colab": {
          "base_uri": "https://localhost:8080/"
        },
        "id": "nluu_EqP8npG",
        "outputId": "abb5e88d-3fb7-41ae-ed75-d22d90d0b554"
      },
      "execution_count": null,
      "outputs": [
        {
          "output_type": "stream",
          "name": "stdout",
          "text": [
            "359 µs ± 7.37 µs per loop (mean ± std. dev. of 7 runs, 1000 loops each)\n"
          ]
        }
      ]
    },
    {
      "cell_type": "code",
      "source": [
        "temp_ls = int_ls[:10_000]\n",
        "\n",
        "%timeit for i in temp_ls: pass"
      ],
      "metadata": {
        "colab": {
          "base_uri": "https://localhost:8080/"
        },
        "id": "eBq0DIKW-A6_",
        "outputId": "12460859-30db-4633-eefd-41239bf13655"
      },
      "execution_count": null,
      "outputs": [
        {
          "output_type": "stream",
          "name": "stdout",
          "text": [
            "197 µs ± 2.92 µs per loop (mean ± std. dev. of 7 runs, 10000 loops each)\n"
          ]
        }
      ]
    },
    {
      "cell_type": "code",
      "source": [
        "while i in [1,2,3]: pass"
      ],
      "metadata": {
        "id": "PvGEwoMu9BeK"
      },
      "execution_count": null,
      "outputs": []
    },
    {
      "cell_type": "code",
      "source": [
        "%timeit while i in temp_ls: pass"
      ],
      "metadata": {
        "colab": {
          "base_uri": "https://localhost:8080/"
        },
        "id": "NeeSG8Vg-L1b",
        "outputId": "d89a84cc-3832-42dd-8e94-a4567a9aa801"
      },
      "execution_count": null,
      "outputs": [
        {
          "output_type": "stream",
          "name": "stdout",
          "text": [
            "263 µs ± 8.6 µs per loop (mean ± std. dev. of 7 runs, 1000 loops each)\n"
          ]
        }
      ]
    },
    {
      "cell_type": "code",
      "source": [
        "%timeit while i in int_ls[:10_000]: pass"
      ],
      "metadata": {
        "colab": {
          "base_uri": "https://localhost:8080/"
        },
        "id": "Kv3_8Cc78zQ2",
        "outputId": "8e93719c-50c8-4374-89c9-de9a202ed71d"
      },
      "execution_count": null,
      "outputs": [
        {
          "output_type": "stream",
          "name": "stdout",
          "text": [
            "498 µs ± 156 µs per loop (mean ± std. dev. of 7 runs, 1000 loops each)\n"
          ]
        }
      ]
    },
    {
      "cell_type": "code",
      "source": [
        "# Long Running...\n",
        "\n",
        "%timeit while i in int_ls: pass"
      ],
      "metadata": {
        "colab": {
          "base_uri": "https://localhost:8080/",
          "height": 455
        },
        "id": "k0eOy9d2-hs6",
        "outputId": "0adb7618-0154-4d5b-8cd0-f941993d393a"
      },
      "execution_count": null,
      "outputs": [
        {
          "output_type": "error",
          "ename": "KeyboardInterrupt",
          "evalue": "ignored",
          "traceback": [
            "\u001b[0;31m---------------------------------------------------------------------------\u001b[0m",
            "\u001b[0;31mKeyboardInterrupt\u001b[0m                         Traceback (most recent call last)",
            "\u001b[0;32m<ipython-input-260-37f32b18255c>\u001b[0m in \u001b[0;36m<module>\u001b[0;34m\u001b[0m\n\u001b[1;32m      1\u001b[0m \u001b[0;31m# Long Running...\u001b[0m\u001b[0;34m\u001b[0m\u001b[0;34m\u001b[0m\u001b[0;34m\u001b[0m\u001b[0m\n\u001b[1;32m      2\u001b[0m \u001b[0;34m\u001b[0m\u001b[0m\n\u001b[0;32m----> 3\u001b[0;31m \u001b[0mget_ipython\u001b[0m\u001b[0;34m(\u001b[0m\u001b[0;34m)\u001b[0m\u001b[0;34m.\u001b[0m\u001b[0mrun_line_magic\u001b[0m\u001b[0;34m(\u001b[0m\u001b[0;34m'timeit'\u001b[0m\u001b[0;34m,\u001b[0m \u001b[0;34m'while i in int_ls: pass'\u001b[0m\u001b[0;34m)\u001b[0m\u001b[0;34m\u001b[0m\u001b[0;34m\u001b[0m\u001b[0m\n\u001b[0m",
            "\u001b[0;32m/usr/local/lib/python3.7/dist-packages/IPython/core/interactiveshell.py\u001b[0m in \u001b[0;36mrun_line_magic\u001b[0;34m(self, magic_name, line, _stack_depth)\u001b[0m\n\u001b[1;32m   2312\u001b[0m                 \u001b[0mkwargs\u001b[0m\u001b[0;34m[\u001b[0m\u001b[0;34m'local_ns'\u001b[0m\u001b[0;34m]\u001b[0m \u001b[0;34m=\u001b[0m \u001b[0msys\u001b[0m\u001b[0;34m.\u001b[0m\u001b[0m_getframe\u001b[0m\u001b[0;34m(\u001b[0m\u001b[0mstack_depth\u001b[0m\u001b[0;34m)\u001b[0m\u001b[0;34m.\u001b[0m\u001b[0mf_locals\u001b[0m\u001b[0;34m\u001b[0m\u001b[0;34m\u001b[0m\u001b[0m\n\u001b[1;32m   2313\u001b[0m             \u001b[0;32mwith\u001b[0m \u001b[0mself\u001b[0m\u001b[0;34m.\u001b[0m\u001b[0mbuiltin_trap\u001b[0m\u001b[0;34m:\u001b[0m\u001b[0;34m\u001b[0m\u001b[0;34m\u001b[0m\u001b[0m\n\u001b[0;32m-> 2314\u001b[0;31m                 \u001b[0mresult\u001b[0m \u001b[0;34m=\u001b[0m \u001b[0mfn\u001b[0m\u001b[0;34m(\u001b[0m\u001b[0;34m*\u001b[0m\u001b[0margs\u001b[0m\u001b[0;34m,\u001b[0m \u001b[0;34m**\u001b[0m\u001b[0mkwargs\u001b[0m\u001b[0;34m)\u001b[0m\u001b[0;34m\u001b[0m\u001b[0;34m\u001b[0m\u001b[0m\n\u001b[0m\u001b[1;32m   2315\u001b[0m             \u001b[0;32mreturn\u001b[0m \u001b[0mresult\u001b[0m\u001b[0;34m\u001b[0m\u001b[0;34m\u001b[0m\u001b[0m\n\u001b[1;32m   2316\u001b[0m \u001b[0;34m\u001b[0m\u001b[0m\n",
            "\u001b[0;32m<decorator-gen-53>\u001b[0m in \u001b[0;36mtimeit\u001b[0;34m(self, line, cell, local_ns)\u001b[0m\n",
            "\u001b[0;32m/usr/local/lib/python3.7/dist-packages/IPython/core/magic.py\u001b[0m in \u001b[0;36m<lambda>\u001b[0;34m(f, *a, **k)\u001b[0m\n\u001b[1;32m    185\u001b[0m     \u001b[0;31m# but it's overkill for just that one bit of state.\u001b[0m\u001b[0;34m\u001b[0m\u001b[0;34m\u001b[0m\u001b[0;34m\u001b[0m\u001b[0m\n\u001b[1;32m    186\u001b[0m     \u001b[0;32mdef\u001b[0m \u001b[0mmagic_deco\u001b[0m\u001b[0;34m(\u001b[0m\u001b[0marg\u001b[0m\u001b[0;34m)\u001b[0m\u001b[0;34m:\u001b[0m\u001b[0;34m\u001b[0m\u001b[0;34m\u001b[0m\u001b[0m\n\u001b[0;32m--> 187\u001b[0;31m         \u001b[0mcall\u001b[0m \u001b[0;34m=\u001b[0m \u001b[0;32mlambda\u001b[0m \u001b[0mf\u001b[0m\u001b[0;34m,\u001b[0m \u001b[0;34m*\u001b[0m\u001b[0ma\u001b[0m\u001b[0;34m,\u001b[0m \u001b[0;34m**\u001b[0m\u001b[0mk\u001b[0m\u001b[0;34m:\u001b[0m \u001b[0mf\u001b[0m\u001b[0;34m(\u001b[0m\u001b[0;34m*\u001b[0m\u001b[0ma\u001b[0m\u001b[0;34m,\u001b[0m \u001b[0;34m**\u001b[0m\u001b[0mk\u001b[0m\u001b[0;34m)\u001b[0m\u001b[0;34m\u001b[0m\u001b[0;34m\u001b[0m\u001b[0m\n\u001b[0m\u001b[1;32m    188\u001b[0m \u001b[0;34m\u001b[0m\u001b[0m\n\u001b[1;32m    189\u001b[0m         \u001b[0;32mif\u001b[0m \u001b[0mcallable\u001b[0m\u001b[0;34m(\u001b[0m\u001b[0marg\u001b[0m\u001b[0;34m)\u001b[0m\u001b[0;34m:\u001b[0m\u001b[0;34m\u001b[0m\u001b[0;34m\u001b[0m\u001b[0m\n",
            "\u001b[0;32m/usr/local/lib/python3.7/dist-packages/IPython/core/magics/execution.py\u001b[0m in \u001b[0;36mtimeit\u001b[0;34m(self, line, cell, local_ns)\u001b[0m\n\u001b[1;32m   1156\u001b[0m             \u001b[0;32mfor\u001b[0m \u001b[0mindex\u001b[0m \u001b[0;32min\u001b[0m \u001b[0mrange\u001b[0m\u001b[0;34m(\u001b[0m\u001b[0;36m0\u001b[0m\u001b[0;34m,\u001b[0m \u001b[0;36m10\u001b[0m\u001b[0;34m)\u001b[0m\u001b[0;34m:\u001b[0m\u001b[0;34m\u001b[0m\u001b[0;34m\u001b[0m\u001b[0m\n\u001b[1;32m   1157\u001b[0m                 \u001b[0mnumber\u001b[0m \u001b[0;34m=\u001b[0m \u001b[0;36m10\u001b[0m \u001b[0;34m**\u001b[0m \u001b[0mindex\u001b[0m\u001b[0;34m\u001b[0m\u001b[0;34m\u001b[0m\u001b[0m\n\u001b[0;32m-> 1158\u001b[0;31m                 \u001b[0mtime_number\u001b[0m \u001b[0;34m=\u001b[0m \u001b[0mtimer\u001b[0m\u001b[0;34m.\u001b[0m\u001b[0mtimeit\u001b[0m\u001b[0;34m(\u001b[0m\u001b[0mnumber\u001b[0m\u001b[0;34m)\u001b[0m\u001b[0;34m\u001b[0m\u001b[0;34m\u001b[0m\u001b[0m\n\u001b[0m\u001b[1;32m   1159\u001b[0m                 \u001b[0;32mif\u001b[0m \u001b[0mtime_number\u001b[0m \u001b[0;34m>=\u001b[0m \u001b[0;36m0.2\u001b[0m\u001b[0;34m:\u001b[0m\u001b[0;34m\u001b[0m\u001b[0;34m\u001b[0m\u001b[0m\n\u001b[1;32m   1160\u001b[0m                     \u001b[0;32mbreak\u001b[0m\u001b[0;34m\u001b[0m\u001b[0;34m\u001b[0m\u001b[0m\n",
            "\u001b[0;32m/usr/local/lib/python3.7/dist-packages/IPython/core/magics/execution.py\u001b[0m in \u001b[0;36mtimeit\u001b[0;34m(self, number)\u001b[0m\n\u001b[1;32m    167\u001b[0m         \u001b[0mgc\u001b[0m\u001b[0;34m.\u001b[0m\u001b[0mdisable\u001b[0m\u001b[0;34m(\u001b[0m\u001b[0;34m)\u001b[0m\u001b[0;34m\u001b[0m\u001b[0;34m\u001b[0m\u001b[0m\n\u001b[1;32m    168\u001b[0m         \u001b[0;32mtry\u001b[0m\u001b[0;34m:\u001b[0m\u001b[0;34m\u001b[0m\u001b[0;34m\u001b[0m\u001b[0m\n\u001b[0;32m--> 169\u001b[0;31m             \u001b[0mtiming\u001b[0m \u001b[0;34m=\u001b[0m \u001b[0mself\u001b[0m\u001b[0;34m.\u001b[0m\u001b[0minner\u001b[0m\u001b[0;34m(\u001b[0m\u001b[0mit\u001b[0m\u001b[0;34m,\u001b[0m \u001b[0mself\u001b[0m\u001b[0;34m.\u001b[0m\u001b[0mtimer\u001b[0m\u001b[0;34m)\u001b[0m\u001b[0;34m\u001b[0m\u001b[0;34m\u001b[0m\u001b[0m\n\u001b[0m\u001b[1;32m    170\u001b[0m         \u001b[0;32mfinally\u001b[0m\u001b[0;34m:\u001b[0m\u001b[0;34m\u001b[0m\u001b[0;34m\u001b[0m\u001b[0m\n\u001b[1;32m    171\u001b[0m             \u001b[0;32mif\u001b[0m \u001b[0mgcold\u001b[0m\u001b[0;34m:\u001b[0m\u001b[0;34m\u001b[0m\u001b[0;34m\u001b[0m\u001b[0m\n",
            "\u001b[0;32m<magic-timeit>\u001b[0m in \u001b[0;36minner\u001b[0;34m(_it, _timer)\u001b[0m\n",
            "\u001b[0;31mKeyboardInterrupt\u001b[0m: "
          ]
        }
      ]
    },
    {
      "cell_type": "markdown",
      "source": [
        "# Iterate over Different Datastructures"
      ],
      "metadata": {
        "id": "5gKR9i9Q0xHn"
      }
    },
    {
      "cell_type": "markdown",
      "source": [
        "## Lists"
      ],
      "metadata": {
        "id": "5AAJX-Np015g"
      }
    },
    {
      "cell_type": "code",
      "source": [
        "max_ct = 10\n",
        "cur_ct = 0\n",
        "\n",
        "for i in int_ls:\n",
        "  if cur_ct >= max_ct:\n",
        "    break\n",
        "  else:\n",
        "    print(f'#{cur_ct}: {i}')\n",
        "    cur_ct = cur_ct + 1"
      ],
      "metadata": {
        "colab": {
          "base_uri": "https://localhost:8080/"
        },
        "id": "8N2xeJJh0w-L",
        "outputId": "cd45decc-e8ab-44af-9a9a-8201151b5472"
      },
      "execution_count": null,
      "outputs": [
        {
          "output_type": "stream",
          "name": "stdout",
          "text": [
            "#0: 885202\n",
            "#1: 18204\n",
            "#2: 519267\n",
            "#3: 81893\n",
            "#4: 884443\n",
            "#5: 372302\n",
            "#6: 2730\n",
            "#7: 101192\n",
            "#8: 356734\n",
            "#9: 467292\n"
          ]
        }
      ]
    },
    {
      "cell_type": "code",
      "source": [
        "max_ct = 10\n",
        "# cur_ct = 0\n",
        "\n",
        "for idx, val in enumerate(int_ls):\n",
        "  if idx >= max_ct:\n",
        "    break\n",
        "  else:\n",
        "    print(f'#{idx}: {val}')\n",
        "    # cur_ct = cur_ct + 1"
      ],
      "metadata": {
        "colab": {
          "base_uri": "https://localhost:8080/"
        },
        "id": "xwWnFFTh1hrJ",
        "outputId": "ca02c18f-d13d-4124-ee78-889a0a591c24"
      },
      "execution_count": null,
      "outputs": [
        {
          "output_type": "stream",
          "name": "stdout",
          "text": [
            "#0: 885202\n",
            "#1: 18204\n",
            "#2: 519267\n",
            "#3: 81893\n",
            "#4: 884443\n",
            "#5: 372302\n",
            "#6: 2730\n",
            "#7: 101192\n",
            "#8: 356734\n",
            "#9: 467292\n"
          ]
        }
      ]
    },
    {
      "cell_type": "code",
      "source": [
        "max_ct = 10\n",
        "# cur_ct = 0\n",
        "\n",
        "[val for idx, val in enumerate(int_ls) if idx < max_ct]"
      ],
      "metadata": {
        "colab": {
          "base_uri": "https://localhost:8080/"
        },
        "id": "Ex2mgVzl119W",
        "outputId": "89419dd3-71db-4da2-ca16-fc6d7f32b37e"
      },
      "execution_count": null,
      "outputs": [
        {
          "output_type": "execute_result",
          "data": {
            "text/plain": [
              "[885202, 18204, 519267, 81893, 884443, 372302, 2730, 101192, 356734, 467292]"
            ]
          },
          "metadata": {},
          "execution_count": 196
        }
      ]
    },
    {
      "cell_type": "markdown",
      "source": [
        "## Dictionaries"
      ],
      "metadata": {
        "id": "JMFti8gG03lm"
      }
    },
    {
      "cell_type": "code",
      "source": [
        "%whos dict"
      ],
      "metadata": {
        "colab": {
          "base_uri": "https://localhost:8080/"
        },
        "id": "lGLpM-ZG03Z3",
        "outputId": "7bb698e2-2365-4b9d-afe5-37ffc402746d"
      },
      "execution_count": null,
      "outputs": [
        {
          "output_type": "stream",
          "name": "stdout",
          "text": [
            "Variable   Type    Data/Info\n",
            "----------------------------\n",
            "int_dt     dict    n=1000000\n",
            "words_dt   dict    n=25480\n"
          ]
        }
      ]
    },
    {
      "cell_type": "code",
      "source": [
        "max_ct = 10\n",
        "cur_ct = 0\n",
        "\n",
        "for key, values in int_dt.items():\n",
        "  if cur_ct >= max_ct:\n",
        "    break\n",
        "  else:\n",
        "    print(f'int_dt[{key}] : {values}')\n",
        "    cur_ct = cur_ct + 1"
      ],
      "metadata": {
        "colab": {
          "base_uri": "https://localhost:8080/"
        },
        "id": "aUI6LsYj2UAf",
        "outputId": "1cd60eb0-7c31-48e4-926d-aa5e9922226e"
      },
      "execution_count": null,
      "outputs": [
        {
          "output_type": "stream",
          "name": "stdout",
          "text": [
            "int_dt[0] : 885202\n",
            "int_dt[1] : 18204\n",
            "int_dt[2] : 519267\n",
            "int_dt[3] : 81893\n",
            "int_dt[4] : 884443\n",
            "int_dt[5] : 372302\n",
            "int_dt[6] : 2730\n",
            "int_dt[7] : 101192\n",
            "int_dt[8] : 356734\n",
            "int_dt[9] : 467292\n"
          ]
        }
      ]
    },
    {
      "cell_type": "markdown",
      "source": [
        "## Pandas DataFrames"
      ],
      "metadata": {
        "id": "pbui4cth056t"
      }
    },
    {
      "cell_type": "code",
      "source": [
        "max_ct = 10\n",
        "cur_ct = 0\n",
        "\n",
        "for i in range(len(int_df)):\n",
        "  if cur_ct >= max_ct:\n",
        "    break\n",
        "  else:\n",
        "    print(f'Row #{i}: {int_df.loc[i, \"val\"]}')\n",
        "    cur_ct = cur_ct + 1\n",
        "  "
      ],
      "metadata": {
        "colab": {
          "base_uri": "https://localhost:8080/"
        },
        "id": "B64sdPjX03XD",
        "outputId": "2d74066c-45fd-48b2-f29b-90ba71221758"
      },
      "execution_count": null,
      "outputs": [
        {
          "output_type": "stream",
          "name": "stdout",
          "text": [
            "Row #0: 885202\n",
            "Row #1: 18204\n",
            "Row #2: 519267\n",
            "Row #3: 81893\n",
            "Row #4: 884443\n",
            "Row #5: 372302\n",
            "Row #6: 2730\n",
            "Row #7: 101192\n",
            "Row #8: 356734\n",
            "Row #9: 467292\n"
          ]
        }
      ]
    },
    {
      "cell_type": "code",
      "source": [
        "max_ct = 10\n",
        "cur_ct = 0\n",
        "\n",
        "for i in range(len(int_df)):\n",
        "  if cur_ct >= max_ct:\n",
        "    break\n",
        "  else:\n",
        "    print(f'Row #{i}: {int_df.iloc[i].val}')\n",
        "    cur_ct = cur_ct + 1"
      ],
      "metadata": {
        "colab": {
          "base_uri": "https://localhost:8080/"
        },
        "id": "Xv1RxRmJ3_ma",
        "outputId": "591f6f9a-2b16-4f97-a7fa-e873d4a646cc"
      },
      "execution_count": null,
      "outputs": [
        {
          "output_type": "stream",
          "name": "stdout",
          "text": [
            "Row #0: 885202\n",
            "Row #1: 18204\n",
            "Row #2: 519267\n",
            "Row #3: 81893\n",
            "Row #4: 884443\n",
            "Row #5: 372302\n",
            "Row #6: 2730\n",
            "Row #7: 101192\n",
            "Row #8: 356734\n",
            "Row #9: 467292\n"
          ]
        }
      ]
    },
    {
      "cell_type": "code",
      "source": [
        "max_ct = 10\n",
        "cur_ct = 0\n",
        "\n",
        "for idx, row in int_df.iterrows():\n",
        "  if cur_ct >= max_ct:\n",
        "    break\n",
        "  else:\n",
        "    print(f'Row #{idx}: {row[\"val\"]}')\n",
        "    cur_ct = cur_ct + 1"
      ],
      "metadata": {
        "colab": {
          "base_uri": "https://localhost:8080/"
        },
        "id": "LaYN7W674Jeq",
        "outputId": "d0f67725-ab8a-4914-d223-fedfca36523d"
      },
      "execution_count": null,
      "outputs": [
        {
          "output_type": "stream",
          "name": "stdout",
          "text": [
            "Row #0: 885202\n",
            "Row #1: 18204\n",
            "Row #2: 519267\n",
            "Row #3: 81893\n",
            "Row #4: 884443\n",
            "Row #5: 372302\n",
            "Row #6: 2730\n",
            "Row #7: 101192\n",
            "Row #8: 356734\n",
            "Row #9: 467292\n"
          ]
        }
      ]
    },
    {
      "cell_type": "markdown",
      "source": [
        "## Sets"
      ],
      "metadata": {
        "id": "DTmBIngE07og"
      }
    },
    {
      "cell_type": "code",
      "source": [
        "%whos set"
      ],
      "metadata": {
        "colab": {
          "base_uri": "https://localhost:8080/"
        },
        "id": "Q9a7S0OC4-DY",
        "outputId": "15361ed5-a45a-44a5-e8ab-b8bf826d873b"
      },
      "execution_count": null,
      "outputs": [
        {
          "output_type": "stream",
          "name": "stdout",
          "text": [
            "Variable                  Type    Data/Info\n",
            "-------------------------------------------\n",
            "english_words_lower_set   set     {'amply', 'deprive', 'nav<...>', 'sistine', 'thickish'}\n"
          ]
        }
      ]
    },
    {
      "cell_type": "code",
      "source": [
        "max_ct = 10\n",
        "# cur_ct = 0\n",
        "\n",
        "for idx, val in enumerate(english_words_lower_set):\n",
        "  if idx >= max_ct:\n",
        "    break\n",
        "  else:\n",
        "    print(f'Row #{idx}: {val}')\n",
        "    # cur_ct = cur_ct + 1"
      ],
      "metadata": {
        "colab": {
          "base_uri": "https://localhost:8080/"
        },
        "id": "HLBrG1QS4vaR",
        "outputId": "a70dac87-3533-4ae8-93d8-97c66c927aa8"
      },
      "execution_count": null,
      "outputs": [
        {
          "output_type": "stream",
          "name": "stdout",
          "text": [
            "Row #0: amply\n",
            "Row #1: deprive\n",
            "Row #2: nave\n",
            "Row #3: cocky\n",
            "Row #4: furlong\n",
            "Row #5: perky\n",
            "Row #6: culture\n",
            "Row #7: illusive\n",
            "Row #8: workplace\n",
            "Row #9: ditto\n"
          ]
        }
      ]
    },
    {
      "cell_type": "code",
      "source": [
        "# Convert to list\n",
        "\n",
        "word_ls = [val for val in english_words_lower_set]\n",
        "word_ls[:10]"
      ],
      "metadata": {
        "colab": {
          "base_uri": "https://localhost:8080/"
        },
        "id": "Iran8uMf4sd2",
        "outputId": "49dfe5bd-a5cb-4414-d3e6-7849040b79d4"
      },
      "execution_count": null,
      "outputs": [
        {
          "output_type": "execute_result",
          "data": {
            "text/plain": [
              "['amply',\n",
              " 'deprive',\n",
              " 'nave',\n",
              " 'cocky',\n",
              " 'furlong',\n",
              " 'perky',\n",
              " 'culture',\n",
              " 'illusive',\n",
              " 'workplace',\n",
              " 'ditto']"
            ]
          },
          "metadata": {},
          "execution_count": 218
        }
      ]
    },
    {
      "cell_type": "code",
      "source": [
        "[val for val in english_words_lower_set][:10]"
      ],
      "metadata": {
        "colab": {
          "base_uri": "https://localhost:8080/"
        },
        "id": "xBqVnXmQ6RQP",
        "outputId": "307261f6-905d-4d80-cacc-e0b38c913282"
      },
      "execution_count": null,
      "outputs": [
        {
          "output_type": "execute_result",
          "data": {
            "text/plain": [
              "['amply',\n",
              " 'deprive',\n",
              " 'nave',\n",
              " 'cocky',\n",
              " 'furlong',\n",
              " 'perky',\n",
              " 'culture',\n",
              " 'illusive',\n",
              " 'workplace',\n",
              " 'ditto']"
            ]
          },
          "metadata": {},
          "execution_count": 219
        }
      ]
    },
    {
      "cell_type": "markdown",
      "source": [
        "# Iterate over Lists"
      ],
      "metadata": {
        "id": "wEbnPcfd0yC0"
      }
    },
    {
      "cell_type": "markdown",
      "source": [
        "## Simple Iteration over Data Structure"
      ],
      "metadata": {
        "id": "WTrA5Mg9rsm9"
      }
    },
    {
      "cell_type": "code",
      "source": [
        "# Loop\n",
        "\n",
        "len_intls_int = len(int_ls)\n",
        "\n",
        "time_start = time.time()\n",
        "%timeit for i in range(len_intls_int): pass\n",
        "time_end = time.time()\n",
        "\n",
        "time_dur = time_end - time_start\n",
        "  \n",
        "print(f'List Loop over {len_intls_int}')\n",
        "print(f'     Time: {time_dur}')"
      ],
      "metadata": {
        "id": "x5HUepyMrscU"
      },
      "execution_count": null,
      "outputs": []
    },
    {
      "cell_type": "code",
      "source": [
        "%%timeit\n",
        "\n",
        "for i in range(len_intls_int):\n",
        "  pass"
      ],
      "metadata": {
        "id": "OJHSHg2LrsYo"
      },
      "execution_count": null,
      "outputs": []
    },
    {
      "cell_type": "code",
      "source": [
        "# List comprehension\n",
        "\n",
        "%timeit _ = [x for x in int_ls]"
      ],
      "metadata": {
        "id": "mwSfWkQBtb2P"
      },
      "execution_count": null,
      "outputs": []
    },
    {
      "cell_type": "markdown",
      "source": [
        "## Operation over List"
      ],
      "metadata": {
        "id": "kFAVDXnauJHP"
      }
    },
    {
      "cell_type": "code",
      "source": [
        "int_cubed_ls = []\n",
        "\n",
        "len_intls_int = len(int_ls)\n",
        "\n",
        "time_start = time.time()\n",
        "%timeit for i in range(len_intls_int): int_cubed_ls.append(int_ls[i]**3)\n",
        "time_end = time.time()\n",
        "\n",
        "time_dur = time_end - time_start\n",
        "  \n",
        "print(f'List Loop over {len_intls_int}')\n",
        "print(f'     Time: {time_dur}')"
      ],
      "metadata": {
        "id": "kR-efcQvuI84"
      },
      "execution_count": null,
      "outputs": []
    },
    {
      "cell_type": "code",
      "source": [
        "int_cubed_ls = []\n",
        "\n",
        "len_intls_int = len(int_ls)\n",
        "\n",
        "time_start = time.time()\n",
        "%timeit int_cubed_ls = [x**3 for x in int_ls]\n",
        "time_end = time.time()\n",
        "\n",
        "time_dur = time_end - time_start\n",
        "  \n",
        "print(f'List Loop over {len_intls_int}')\n",
        "print(f'     Time: {time_dur}')"
      ],
      "metadata": {
        "id": "yIjzjKYBuI54"
      },
      "execution_count": null,
      "outputs": []
    },
    {
      "cell_type": "code",
      "source": [
        "int_np = np.array(int_ls)\n",
        "\n",
        "time_start = time.time()\n",
        "%timeit int_cubed_np = np.power(int_np, 3)\n",
        "time_end = time.time()\n",
        "\n",
        "time_dur = time_end - time_start\n",
        "  \n",
        "print(f'List Loop over {len_intls_int}')\n",
        "print(f'     Time: {time_dur}')"
      ],
      "metadata": {
        "id": "MPtYgxSvy0M2"
      },
      "execution_count": null,
      "outputs": []
    },
    {
      "cell_type": "markdown",
      "source": [
        "## Max in List"
      ],
      "metadata": {
        "id": "NCkwCjKLnQ7F"
      }
    },
    {
      "cell_type": "code",
      "source": [
        "max_best = 0\n",
        "\n",
        "time_start = time.time()\n",
        "for i in range(len(int_ls)):\n",
        "  if int_ls[i] > max_best:\n",
        "    max_best = int_ls[i]\n",
        "\n",
        "time_end = time.time()\n",
        "time_dur = time_end - time_start\n",
        "  \n",
        "print(f'Max value: {max_best}')\n",
        "print(f'     Time: {time_dur}')"
      ],
      "metadata": {
        "id": "RU3aLfIEnQL4"
      },
      "execution_count": null,
      "outputs": []
    },
    {
      "cell_type": "code",
      "source": [
        "time_start = time.time()\n",
        "max_best = max(int_ls)\n",
        "time_end = time.time()\n",
        "\n",
        "time_dur = time_end - time_start\n",
        "  \n",
        "print(f'Max value: {max_best}')\n",
        "print(f'     Time: {time_dur}')"
      ],
      "metadata": {
        "id": "meGL8Bow3RX4"
      },
      "execution_count": null,
      "outputs": []
    },
    {
      "cell_type": "markdown",
      "source": [
        "## Find Max n in List"
      ],
      "metadata": {
        "id": "_1zsLuQyvIZp"
      }
    },
    {
      "cell_type": "markdown",
      "source": [
        "### Nested Loops"
      ],
      "metadata": {
        "id": "BBtYM_KFymeq"
      }
    },
    {
      "cell_type": "code",
      "source": [
        "biggest_ls = []\n",
        "biggest_ct = 100\n",
        "\n",
        "time_start = time.time()\n",
        "\n",
        "# try-catch: len(int_ls) > biggest_ct\n",
        "\n",
        "# for i in range(len(int_ls)):\n",
        "for i, val_i in enumerate(int_ls):\n",
        "  if len(biggest_ls) < biggest_ct:\n",
        "    # haven't filled biggest_ls yet\n",
        "    biggest_ls.append(val_i)\n",
        "  else:\n",
        "    # check if new value is larger than smallest value in biggest_ls\n",
        "\n",
        "    # find smallest value in biggest_ls\n",
        "    # alt: store in sorted order -> slower write, retrive faster\n",
        "    smallest_big = biggest_ls[0]\n",
        "    smallest_big_idx = 0\n",
        "    for j, val_j in enumerate(biggest_ls):\n",
        "      if val_j < smallest_big:\n",
        "        smallest_big = val_j\n",
        "        smallest_big_idx = j\n",
        "    \n",
        "    # if new value is larger than smallest big, replace\n",
        "    if val_i  > smallest_big:\n",
        "      biggest_ls[smallest_big_idx] = val_i\n",
        "\n",
        "time_end = time.time()\n",
        "time_dur = time_end - time_start\n",
        "  \n",
        "print(f'Max values: {biggest_ls}')\n",
        "print(f'      Time: {time_dur}')"
      ],
      "metadata": {
        "id": "EJS2X-4SvKWP"
      },
      "execution_count": null,
      "outputs": []
    },
    {
      "cell_type": "markdown",
      "source": [
        "### Using HeapQ"
      ],
      "metadata": {
        "id": "z07JFC2tykCy"
      }
    },
    {
      "cell_type": "code",
      "source": [
        "import heapq"
      ],
      "metadata": {
        "id": "_4JAtjyO3aic"
      },
      "execution_count": null,
      "outputs": []
    },
    {
      "cell_type": "code",
      "source": [
        "time_start = time.time()\n",
        "biggest_ls = heapq.nlargest(100, int_ls)\n",
        "time_end = time.time()\n",
        "\n",
        "time_dur = time_end - time_start\n",
        "  \n",
        "print(f'Max values: {biggest_ls}')\n",
        "print(f'      Time: {time_dur}')\n"
      ],
      "metadata": {
        "id": "x-QbtxwG3ict"
      },
      "execution_count": null,
      "outputs": []
    },
    {
      "cell_type": "code",
      "source": [],
      "metadata": {
        "id": "VK8uRJh-097P"
      },
      "execution_count": null,
      "outputs": []
    },
    {
      "cell_type": "code",
      "source": [
        "?sorted"
      ],
      "metadata": {
        "id": "e-OWeDBU14f1"
      },
      "execution_count": null,
      "outputs": []
    },
    {
      "cell_type": "code",
      "source": [
        "%time \n",
        "sorted(int_ls, reverse=True)[0]"
      ],
      "metadata": {
        "id": "x-g8wZ9u1r0Q"
      },
      "execution_count": null,
      "outputs": []
    },
    {
      "cell_type": "code",
      "source": [
        "%time \n",
        "\n",
        "num_hi_int = 0\n",
        "num_hi_idx_int = 0\n",
        "\n",
        "for i in range(len(int_ls)-1):\n",
        "  if num_hi_int < int_ls[i]:\n",
        "    num_hi_int = int_ls[i] \n",
        "    num_hi_idx_int = i\n",
        "\n",
        "print(f'Highest Number: {num_hi_int}')\n",
        "print(f'Highest Number Index: {num_hi_idx_int}')\n"
      ],
      "metadata": {
        "id": "svdiIxBJ2B63"
      },
      "execution_count": null,
      "outputs": []
    },
    {
      "cell_type": "code",
      "source": [
        "%%time\n",
        "\n",
        "for i in range(n):\n"
      ],
      "metadata": {
        "id": "ctHhSS4X0x7o"
      },
      "execution_count": null,
      "outputs": []
    },
    {
      "cell_type": "code",
      "source": [],
      "metadata": {
        "id": "ZknA4unp0x4o"
      },
      "execution_count": null,
      "outputs": []
    },
    {
      "cell_type": "code",
      "source": [],
      "metadata": {
        "id": "mxe-fRo80x1K"
      },
      "execution_count": null,
      "outputs": []
    },
    {
      "cell_type": "markdown",
      "source": [
        "# Looping"
      ],
      "metadata": {
        "id": "w-TyTY9pwmyF"
      }
    },
    {
      "cell_type": "markdown",
      "source": [
        "## Sum the numbers from 0 to n-1 in different ways\n",
        "\n",
        "* https://www.youtube.com/watch?v=Qgevy75co8c"
      ],
      "metadata": {
        "id": "ttlI9gQjwytH"
      }
    },
    {
      "cell_type": "code",
      "source": [
        "import timeit"
      ],
      "metadata": {
        "id": "SYO7KwYkwmnS"
      },
      "execution_count": null,
      "outputs": []
    },
    {
      "cell_type": "code",
      "source": [
        "def while_loop(n=100_000_000):\n",
        "  i = 0 \n",
        "  s = 0 \n",
        "  # Loop in Python\n",
        "  while i < n:\n",
        "    s += 1\n",
        "    i += 1 # Done in Python\n",
        "  return s\n",
        "\n",
        "def for_loop(n=100_000_000):\n",
        "  s = 0 \n",
        "  # Iteration, bounds checking done in C\n",
        "  for i in range(n):\n",
        "    s += 1 # Done in Python\n",
        "  return s"
      ],
      "metadata": {
        "id": "0h2247n0wwit"
      },
      "execution_count": null,
      "outputs": []
    },
    {
      "cell_type": "code",
      "source": [
        "print('While Loop:\\t\\t',timeit.timeit(while_loop, number=1)) \n",
        "print('  For Loop:\\t\\t',timeit.timeit(for_loop, number=1))\n"
      ],
      "metadata": {
        "id": "cTvSvsC-wmqR"
      },
      "execution_count": null,
      "outputs": []
    },
    {
      "cell_type": "code",
      "source": [
        "def for_loop_with_increment(n=100_000_000):\n",
        "  s = 0\n",
        "  for i in range(n):\n",
        "    s += i\n",
        "    i += i # Redundant\n",
        "  return s \n",
        "\n",
        "def for_loop_with_test(n=100_000_000):\n",
        "  s = 0\n",
        "  for i in range(n):\n",
        "    if i < n: pass\n",
        "    s += i\n",
        "  return s \n",
        "\n",
        "def for_loop_with_increment_and_test(n=100_000_000):\n",
        "  s = 0\n",
        "  for i in range(n):\n",
        "    if i < n: pass\n",
        "    i += 1\n",
        "    s += 100_000_000\n",
        "  return s\n",
        "\n"
      ],
      "metadata": {
        "id": "axQRuwCrwmkA"
      },
      "execution_count": null,
      "outputs": []
    },
    {
      "cell_type": "code",
      "source": [
        "print('While Loop:\\t\\t',timeit.timeit(while_loop, number=1)) \n",
        "print('  For Loop:\\t\\t',timeit.timeit(for_loop, number=1))\n",
        "\n",
        "print('     For inc Loop:\\t\\t',timeit.timeit(for_loop_with_increment, number=1)) \n",
        "print('    For test Loop:\\t\\t',timeit.timeit(for_loop_with_test, number=1))\n",
        "print('For inc+test Loop:\\t\\t',timeit.timeit(for_loop_with_increment_and_test, number=1)) \n"
      ],
      "metadata": {
        "id": "iY03KRSKym5h"
      },
      "execution_count": null,
      "outputs": []
    },
    {
      "cell_type": "markdown",
      "source": [
        "## Built-Ins"
      ],
      "metadata": {
        "id": "tDRgqh-gzhww"
      }
    },
    {
      "cell_type": "code",
      "source": [
        "# Lazy build of array\n",
        "\n",
        "def sum_range(n=100_000_000):\n",
        "  return sum(range(n))"
      ],
      "metadata": {
        "id": "yWB6ZjUkym2U"
      },
      "execution_count": null,
      "outputs": []
    },
    {
      "cell_type": "code",
      "source": [
        "print('  For Loop:\\t\\t',timeit.timeit(sum_range, number=1))"
      ],
      "metadata": {
        "id": "cgCx8T2EwmhW"
      },
      "execution_count": null,
      "outputs": []
    },
    {
      "cell_type": "markdown",
      "source": [
        "## Numpy"
      ],
      "metadata": {
        "id": "6SnogiIqzjtD"
      }
    },
    {
      "cell_type": "code",
      "source": [
        "import numpy as np"
      ],
      "metadata": {
        "id": "6stT58wrzdtx"
      },
      "execution_count": null,
      "outputs": []
    },
    {
      "cell_type": "code",
      "source": [
        "# Build 100M array in memory\n",
        "\n",
        "def sum_numpy(n=100_000_000):\n",
        "  return np.sum(np.arange(n))"
      ],
      "metadata": {
        "id": "WstsGJr6zdmM"
      },
      "execution_count": null,
      "outputs": []
    },
    {
      "cell_type": "code",
      "source": [
        "print('  For Loop:\\t\\t',timeit.timeit(sum_numpy, number=1))"
      ],
      "metadata": {
        "id": "FUsEVo0Pzdi9"
      },
      "execution_count": null,
      "outputs": []
    },
    {
      "cell_type": "markdown",
      "source": [
        "## Formula"
      ],
      "metadata": {
        "id": "Yfp1cExDz4CF"
      }
    },
    {
      "cell_type": "code",
      "source": [
        "def sum_math(n=100_000_000):\n",
        "  return (n * (n-1)) // 2"
      ],
      "metadata": {
        "id": "J8ohc-jnz29I"
      },
      "execution_count": null,
      "outputs": []
    },
    {
      "cell_type": "code",
      "source": [
        "print('  For Loop:\\t\\t',timeit.timeit(sum_math, number=1))"
      ],
      "metadata": {
        "id": "vZTl-Q8rzdf_"
      },
      "execution_count": null,
      "outputs": []
    },
    {
      "cell_type": "code",
      "source": [],
      "metadata": {
        "id": "hHaV-lCb0TkD"
      },
      "execution_count": null,
      "outputs": []
    },
    {
      "cell_type": "code",
      "source": [],
      "metadata": {
        "id": "2htc0I_90Tgi"
      },
      "execution_count": null,
      "outputs": []
    },
    {
      "cell_type": "code",
      "source": [],
      "metadata": {
        "id": "4wzi2bt90TdZ"
      },
      "execution_count": null,
      "outputs": []
    },
    {
      "cell_type": "code",
      "source": [],
      "metadata": {
        "id": "LkEK6KpDzddH"
      },
      "execution_count": null,
      "outputs": []
    },
    {
      "cell_type": "markdown",
      "source": [
        "# Numba\n",
        "\n",
        "* [Make Python 1000x Faster with One Line (6:50)](https://www.youtube.com/watch?v=OiMZtjSZVOw)\n"
      ],
      "metadata": {
        "id": "ORRhMdKau_SO"
      }
    },
    {
      "cell_type": "code",
      "source": [
        "from time import time, sleep\n",
        "from numba import njit"
      ],
      "metadata": {
        "id": "yXYAex90u-FA"
      },
      "execution_count": null,
      "outputs": []
    },
    {
      "cell_type": "code",
      "source": [
        "def f():\n",
        "  l = []\n",
        "  for x in range(10):\n",
        "    for y in range(1000):\n",
        "      for z in range(10000):\n",
        "        if (x+y+z)/10 == x:\n",
        "          l.append(x)\n",
        "    print(x)\n",
        "  return l\n",
        "\n",
        "start = time()\n",
        "f()\n",
        "print(f\"Finished after {round(time()-start,2)} seconds\")"
      ],
      "metadata": {
        "id": "k-3kgjcwu9z8"
      },
      "execution_count": null,
      "outputs": []
    },
    {
      "cell_type": "code",
      "source": [
        "# Cannot use many libraries numba is not aware of\n",
        "# First time slower due to compilation\n",
        "\n",
        "@njit\n",
        "def f():\n",
        "  l = []\n",
        "  for x in range(10):\n",
        "    for y in range(1000):\n",
        "      for z in range(10000):\n",
        "        if (x+y+z)/10 == x:\n",
        "          l.append(x)\n",
        "    print(x)\n",
        "  return l\n",
        "\n",
        "start = time()\n",
        "f()\n",
        "print(f\"Finished after {round(time()-start,2)} seconds\")"
      ],
      "metadata": {
        "id": "hclXqHZSvhwV"
      },
      "execution_count": null,
      "outputs": []
    },
    {
      "cell_type": "code",
      "source": [
        "# Cannot use many libraries numba is not aware of\n",
        "# First time slower due to compilation\n",
        "\n",
        "@njit\n",
        "def f():\n",
        "  l = []\n",
        "  for x in range(10):\n",
        "    for y in range(1000):\n",
        "      for z in range(10000):\n",
        "        if (x+y+z)/10 == x:\n",
        "          l.append(x)\n",
        "    print(x)\n",
        "  return l\n",
        "\n",
        "start = time()\n",
        "for x in range(10000):\n",
        "  f()\n",
        "print(f\"Finished after {round(time()-start,2)} seconds\")"
      ],
      "metadata": {
        "id": "_5JlMMF3wM4U"
      },
      "execution_count": null,
      "outputs": []
    },
    {
      "cell_type": "markdown",
      "source": [
        "# JAX Crash Course\n",
        "\n",
        "## Outline\n",
        "- What is JAX?\n",
        "- Speed comparison\n",
        "- Replacement for NumPy\n",
        "- Speed up computations with jit()\n",
        "- Automatic Differentiation with grad()\n",
        "- Automatic Vectorization with vmap()\n",
        "- Automatic Parallelization with pmap()\n",
        "- Example Training Loop With JAX\n",
        "- What's the catch?\n",
        "- Summary\n",
        "\n",
        "## Resources:\n",
        "- [JAX Performance Tutorial - YouTube](https://www.youtube.com/watch?v=juo5G3t4qAo\n",
        "- [Official JAX Website](https://jax.readthedocs.io/en/latest/index.html)\n",
        "- [Why You Should (or Shouldn't) be Using Google's JAX in 2022](https://www.assemblyai.com/blog/why-you-should-or-shouldnt-be-using-jax-in-2022/)\n",
        "\n",
        "## Transcribed:\n",
        "\n",
        "- 01 Oct 2022 by Jon Chun"
      ],
      "metadata": {
        "id": "WlevbFFcOmdX"
      }
    },
    {
      "cell_type": "markdown",
      "source": [
        "## What is JAX?\n",
        "JAX is Autograd and [XLA](https://www.tensorflow.org/xla), brought together for high-performance numerical computing and machine learning research. It provides composable transformations of Python+NumPy programs: differentiate, vectorize, parallelize, Just-In-Time compile to GPU/TPU, and more.\n",
        "\n",
        "In simpler words: JAX is NumPy on the CPU, GPU, and TPU, with great automatic differentiation for high-performance machine learning research.\n",
        "\n",
        "#### XLA\n",
        "XLA: Accelerated Linear Algebra, lies at the foundation of what makes JAX so powerful. Developed by Google, XLA is a domain-specific, graph-based, just-in-time compiler for linear algebra.\n",
        "\n",
        "It significantly improves execution speed and lowers memory usage by fusing low-level operations.\n"
      ],
      "metadata": {
        "id": "yQCrc7d_Pjww"
      }
    },
    {
      "cell_type": "markdown",
      "source": [
        "## Speed Comparison\n",
        "Huge performance boost when running on GPU/TPU, but even on CPU!"
      ],
      "metadata": {
        "id": "qWD21Ki-PvXe"
      }
    },
    {
      "cell_type": "code",
      "source": [
        "import numpy as np\n",
        "\n",
        "def fn(x):\n",
        "  return x + x*x + x*x*x\n",
        "\n",
        "x = np.random.randn(10000, 10000).astype(dtype='float32')\n",
        "%timeit -n5 fn(x)"
      ],
      "metadata": {
        "id": "KWHJk7sPPyad"
      },
      "execution_count": null,
      "outputs": []
    },
    {
      "cell_type": "code",
      "source": [
        "import jax.numpy as jnp\n",
        "from jax import jit\n",
        "\n",
        "jax_fn = jit(fn)\n",
        "x = jnp.array(x)\n",
        "%timeit -n5 jax_fn(x).block_until_ready()\n",
        "# Use block_until_ready because JAX uses asynchronous execution by default"
      ],
      "metadata": {
        "id": "CnX2ay0TP2AF"
      },
      "execution_count": null,
      "outputs": []
    },
    {
      "cell_type": "markdown",
      "source": [
        "## Drop-in Replacement for NumPy\n",
        "JAX numpy can often be used as drop-in repcacement for numpy since the API is almost identical. One useful feature of JAX is that the same code can be run on different backends – CPU, GPU and TPU."
      ],
      "metadata": {
        "id": "s2E5gaz9QOSJ"
      }
    },
    {
      "cell_type": "code",
      "source": [
        "import matplotlib.pyplot as plt\n",
        "import numpy as np\n",
        "\n",
        "x_np = np.linspace(0, 10, 1000)\n",
        "y_np = 2 * np.sin(x_np) * np.cos(x_np)\n",
        "plt.plot(x_np, y_np)"
      ],
      "metadata": {
        "id": "V2qUtvH5QRau"
      },
      "execution_count": null,
      "outputs": []
    },
    {
      "cell_type": "code",
      "source": [
        "import jax.numpy as jnp\n",
        "\n",
        "x_jnp = jnp.linspace(0, 10, 1000)\n",
        "y_jnp = 2 * jnp.sin(x_jnp) * jnp.cos(x_jnp)\n",
        "plt.plot(x_jnp, y_jnp)"
      ],
      "metadata": {
        "id": "O63kYGWCQV1t"
      },
      "execution_count": null,
      "outputs": []
    },
    {
      "cell_type": "markdown",
      "source": [
        "Using this alone can bring a nice performance boost on the GPU/TPU.\n",
        "\n",
        "**Big difference: JAX arrays are immutable!**"
      ],
      "metadata": {
        "id": "olKbYupoQb7J"
      }
    },
    {
      "cell_type": "code",
      "source": [
        "x = np.arange(10)\n",
        "x[0] = 10\n",
        "x"
      ],
      "metadata": {
        "id": "ZmDKEcxdQjd-"
      },
      "execution_count": null,
      "outputs": []
    },
    {
      "cell_type": "code",
      "source": [
        "x = jnp.arange(10)\n",
        "x[0] = 10"
      ],
      "metadata": {
        "id": "-4ryabwFQaI3"
      },
      "execution_count": null,
      "outputs": []
    },
    {
      "cell_type": "markdown",
      "source": [
        "## Speed up computations with jit()\n",
        "Just-in-time, or JIT compilation, is a method of executing code that lies between interpretation and ahead-of-time (AoT) compilation.\n",
        "\n",
        "The important fact is that a JIT-compiler will compile code at runtime into a fast executable (at the cost of a slower first run)."
      ],
      "metadata": {
        "id": "2N7HhPIaTBR0"
      }
    },
    {
      "cell_type": "code",
      "source": [
        "def fn(x):\n",
        "  return x + x*x + x*x*x\n",
        "\n",
        "x_np = np.random.randn(5000, 5000).astype(dtype='float32')\n",
        "%timeit -n5 fn(x_np)\n",
        "\n",
        "x_jnp = jnp.array(x_np)\n",
        "%timeit -n5 fn(x_jnp).block_until_ready()\n",
        "\n",
        "jitted = jit(fn)\n",
        "%timeit -n5 jitted(x_jnp).block_until_ready()"
      ],
      "metadata": {
        "id": "U2GA4pvyQ1XC"
      },
      "execution_count": null,
      "outputs": []
    },
    {
      "cell_type": "code",
      "source": [
        "# Use as decorator\n",
        "@jit\n",
        "def fn_jitted(x):\n",
        "  return x + x*x + x*x*x\n",
        "\n",
        "%timeit -n5 fn_jitted(x_jnp).block_until_ready()"
      ],
      "metadata": {
        "id": "cx4tI51ATiC8"
      },
      "execution_count": null,
      "outputs": []
    },
    {
      "cell_type": "markdown",
      "source": [
        "## How does JIT works?\n",
        "\n",
        "JIT and other JAX transforms work by tracing a function to determine its effect on inputs of a specific shape and type."
      ],
      "metadata": {
        "id": "Y3zI_MYsaV8s"
      }
    },
    {
      "cell_type": "code",
      "source": [
        "@jit\n",
        "def f(x, y):\n",
        "  print(\"Running f():\")\n",
        "  print(f\"  x = {x}\")\n",
        "  print(f\"  y = {y}\")\n",
        "  result = jnp.dot(x + 1, y + 1)\n",
        "  print(f\"  result = {result}\")\n",
        "  return result\n",
        "\n",
        "x = np.random.randn(3, 4)\n",
        "y = np.random.randn(4)"
      ],
      "metadata": {
        "id": "fqjIGPWPT6Wj"
      },
      "execution_count": null,
      "outputs": []
    },
    {
      "cell_type": "code",
      "source": [
        "f(x, y)"
      ],
      "metadata": {
        "id": "s2acvEDiXjlJ"
      },
      "execution_count": null,
      "outputs": []
    },
    {
      "cell_type": "code",
      "source": [
        "f(x, y)"
      ],
      "metadata": {
        "id": "C1eojc_XXkYA"
      },
      "execution_count": null,
      "outputs": []
    },
    {
      "cell_type": "markdown",
      "source": [
        "Notice that the print statements execute, but rather than printing the data we passed to the function, though, it prints tracer objects that stand-in for them.\n",
        "\n",
        "These tracer objects are what jax.jit uses to extract the sequence of operations specified by the function. Basic tracers are stand-ins that encode the shape and dtype of the arrays, but are agnostic to the values. This recorded sequence of computations can then be efficiently applied within XLA to new inputs with the same shape and dtype, without having to re-execute the Python code.\n",
        "\n",
        "When we call the compiled function again on matching inputs, no re-compilation is required and nothing is printed because the result is computed in compiled XLA rather than in Python."
      ],
      "metadata": {
        "id": "zMYVvXdxX8F7"
      }
    },
    {
      "cell_type": "markdown",
      "source": [
        "## Limitation of JIT\n",
        "**Important**: because JIT compilation is done without information on the content of the array, control flow statements in the function cannot depend on traced values."
      ],
      "metadata": {
        "id": "lkm_XC9zaphA"
      }
    },
    {
      "cell_type": "code",
      "source": [
        "# Important: because JIT compilation is done without information\n",
        "# on the content of the array, control flow statements in the function cannot depend\n",
        "# on traced values\n",
        "def f(x):\n",
        "  if x > 0:\n",
        "    return x\n",
        "  else:\n",
        "    return 2 * x\n",
        "\n",
        "f_jit = jit(f)\n",
        "f_jit(10)  # Should raise an error. "
      ],
      "metadata": {
        "id": "yL-c9yz6YNwH"
      },
      "execution_count": null,
      "outputs": []
    },
    {
      "cell_type": "markdown",
      "source": [
        "## Pure Functions\n",
        "It needs [pure functions](https://jax.readthedocs.io/en/latest/notebooks/Common_Gotchas_in_JAX.html#pure-functions):\n",
        "\n",
        "- No control flow statements that depend on values\n",
        "- It cannot use or change global state (variables outside its scope, global variables)\n",
        "- It cannot have an I/O stream - so no printing, asking for input, or accessing the time\n",
        "- It cannot have a mutable function as an argument (which a concurrent process could modify)\n",
        "\n",
        "#### Untracked side effects!\n",
        "Silently throw off the results of your calculation you should be sure that you understand how to write pure functions if you plan to utilize JAX. Read more [here](https://jax.readthedocs.io/en/latest/faq.html#jit-changes-the-behavior-of-my-function)."
      ],
      "metadata": {
        "id": "QUm6wTIyY9wU"
      }
    },
    {
      "cell_type": "markdown",
      "source": [
        "## Automatic Differentiation with grad()\n",
        "\n",
        "Very simple to calculate gradients and second/third order gradients etc.\n",
        "\n",
        "The gradients follow more the underlying math rather than using backpropagation in other Deep Learning libraries --> It can be much faster with JAX!\n",
        "\n",
        "grad() works for scalar-valued function, meaning a function which maps scalars/vectors to scalars."
      ],
      "metadata": {
        "id": "Hj6TOVcca8IR"
      }
    },
    {
      "cell_type": "code",
      "source": [
        "from jax import grad\n",
        "\n",
        "def f(x):\n",
        "  return x**3 + 2*x**2 - 3*x + 1\n",
        "\n",
        "dfdx = grad(f)\n",
        "\n",
        "d2fdx = grad(grad(f))\n",
        "#d2fdx = grad(dfdx)\n",
        "\n",
        "print(f\"x = 1.0\")\n",
        "print(f\"f  (x) = {f(1.)}\")\n",
        "print(f\"f' (x) = 3*x^2 + 4x - 3 = {dfdx(1.)}\")\n",
        "print(f\"f''(x) = 6x + 4 = {d2fdx(1.)}\")"
      ],
      "metadata": {
        "id": "74XvEc7-YOI5"
      },
      "execution_count": null,
      "outputs": []
    },
    {
      "cell_type": "code",
      "source": [
        "# Another example\n",
        "def rectified_cube(x):\n",
        "  r = 1\n",
        "  \n",
        "  if x < 0.:\n",
        "    for i in range(3):\n",
        "      r *= x\n",
        "    r = -r\n",
        "  else:\n",
        "    for i in range(3):\n",
        "        r *= x\n",
        "  \n",
        "  return r\n",
        "\n",
        "gradient_function = grad(rectified_cube)\n",
        "\n",
        "print(f\"x = 2   f(x) = {rectified_cube(2.)}   f'(x) =  3*x^2 = {gradient_function(2.)}\")\n",
        "print(f\"x = -3  f(x) = {rectified_cube(-3.)}  f'(x) = -3*x^2 = {gradient_function(-3.)}\")"
      ],
      "metadata": {
        "id": "MJC3toxYbAwc"
      },
      "execution_count": null,
      "outputs": []
    },
    {
      "cell_type": "code",
      "source": [
        "# use argnum\n",
        "def sum_squared_error(x, y):\n",
        "  return jnp.sum((x-y)**2)\n",
        "\n",
        "sum_squared_error_dx = grad(sum_squared_error)\n",
        "\n",
        "x = jnp.asarray([1.0, 2.0, 3.0, 4.0])\n",
        "y = jnp.asarray([1.1, 2.1, 3.1, 4.1])\n",
        "\n",
        "print(sum_squared_error_dx(x, y))\n",
        "\n",
        "sum_squared_error_dy = grad(sum_squared_error, argnums=(1))\n",
        "\n",
        "print(sum_squared_error_dy(x, y))"
      ],
      "metadata": {
        "id": "TbVw30Ltb-jV"
      },
      "execution_count": null,
      "outputs": []
    },
    {
      "cell_type": "markdown",
      "source": [
        "## Jacobian and Hessian for Vector-Valued Functions\n",
        "For vector-valued functions which map vectors to vectors, the analogue to the gradient is the Jacobian. With the function transformations jacfwd() and jacrev(), corresponding to forward mode differentiation and reverse mode differentiation."
      ],
      "metadata": {
        "id": "qYrlzGnVcvc_"
      }
    },
    {
      "cell_type": "code",
      "source": [
        "from jax import jacfwd\n",
        "\n",
        "def mapping(v):\n",
        "  x = v[0]\n",
        "  y = v[1]\n",
        "  z = v[2]\n",
        "  return jnp.array([x*x, y*z])\n",
        "\n",
        "# 3 inputs, 2 outputs\n",
        "# [d/dx x^2 , d/dy x^2, d/dz x^2]\n",
        "# [d/dx y*z , d/dy y*z, d/dz y*z]\n",
        "\n",
        "# [2*x , 0, 0]\n",
        "# [0 , z, y]\n",
        "\n",
        "f = jacfwd(mapping)\n",
        "v = jnp.array([4., 5., 9.])\n",
        "print(f(v))"
      ],
      "metadata": {
        "id": "9fnQIEcdcu0Q"
      },
      "execution_count": null,
      "outputs": []
    },
    {
      "cell_type": "code",
      "source": [
        "def hessian(f):\n",
        "  return jacfwd(grad(f))\n",
        "\n",
        "def f(x):\n",
        "  return jnp.dot(x, x)\n",
        "\n",
        "hessian(f)(jnp.array([1., 2., 3.]))"
      ],
      "metadata": {
        "id": "peifeDcicSw6"
      },
      "execution_count": null,
      "outputs": []
    },
    {
      "cell_type": "markdown",
      "source": [
        "## Automatic Vectorization with vmap()\n",
        "\n",
        "JAX’s transform: Vectorization via vmap, the vectorizing map. It has the familiar semantics of mapping a function along array axes, but instead of keeping the loop on the outside, it pushes the loop down into a function’s primitive operations for better performance."
      ],
      "metadata": {
        "id": "sdSN7nHZdpoz"
      }
    },
    {
      "cell_type": "code",
      "source": [
        "from jax import vmap\n",
        "\n",
        "x = jnp.arange(5)\n",
        "w = jnp.array([2., 3., 4.])\n",
        "\n",
        "def convolve(x, w):\n",
        "  output = []\n",
        "  for i in range(1, len(x)-1):\n",
        "    output.append(jnp.dot(x[i-1:i+2], w))\n",
        "  return jnp.array(output)\n",
        "\n",
        "print(convolve(x, w))\n",
        "\n",
        "# Suppose we would like to apply this function to a batch of weights w to a batch of vectors x.\n",
        "xs = jnp.stack([x, x])\n",
        "ws = jnp.stack([w, w])\n",
        "\n",
        "# The most naive option would be to simply loop over the batch in Python:\n",
        "def manually_batched_convolve(xs, ws):\n",
        "  output = []\n",
        "  for i in range(xs.shape[0]):\n",
        "    output.append(convolve(xs[i], ws[i]))\n",
        "  return jnp.stack(output)\n",
        "\n",
        "print(manually_batched_convolve(xs, ws))\n",
        "\n",
        "# use vmap\n",
        "auto_batch_convolve = vmap(convolve)\n",
        "\n",
        "print(auto_batch_convolve(xs, ws))"
      ],
      "metadata": {
        "id": "nM9WkrMldFH6"
      },
      "execution_count": null,
      "outputs": []
    },
    {
      "cell_type": "markdown",
      "source": [
        "## Automatic Parallelization with pmap()\n",
        "Performing distributed training of SPMD programs with a single command\n",
        "\n",
        "Consider the example of vector-matrix multiplication. Let’s say we are performing this computation by sequentially computing the dot product of the vector with each row of the matrix. We would need to push these computations through our hardware one at a time.\n",
        "\n",
        "With JAX, we can easily distribute these computations across 4 TPUs by simply wrapping our operation in pmap(). This allows us to concurrently perform one dot product on each TPU, significantly increasing our computation speed (for large computations)"
      ],
      "metadata": {
        "id": "N6vOISF4ebx3"
      }
    },
    {
      "cell_type": "markdown",
      "source": [
        "## Example Training Loop with JAX\n"
      ],
      "metadata": {
        "id": "W2P0r1WufO_3"
      }
    },
    {
      "cell_type": "code",
      "source": [
        "import numpy as np\n",
        "import matplotlib.pyplot as plt\n",
        "\n",
        "xs = np.random.normal(size=(100,))\n",
        "noise = np.random.normal(scale=0.1, size=(100,))\n",
        "ys = xs * 3 - 1 + noise\n",
        "\n",
        "plt.scatter(xs, ys)"
      ],
      "metadata": {
        "id": "ELQld9gkdxZW"
      },
      "execution_count": null,
      "outputs": []
    },
    {
      "cell_type": "code",
      "source": [
        "def model(theta, x):\n",
        "  \"\"\"Computes wx + b on a batch of input x.\"\"\"\n",
        "  w, b = theta\n",
        "  return w * x + b\n",
        "\n",
        "def loss_fn(theta, x, y):\n",
        "  prediction = model(theta, x)\n",
        "  return jnp.mean((prediction-y)**2)\n",
        "\n",
        "def update(theta, x, y, lr=0.1):\n",
        "  return theta - lr * grad(loss_fn)(theta, x, y)"
      ],
      "metadata": {
        "id": "pirqblCQfyaL"
      },
      "execution_count": null,
      "outputs": []
    },
    {
      "cell_type": "code",
      "source": [
        "theta = jnp.array([1., 1.])\n",
        "\n",
        "for _ in range(1000):\n",
        "  theta = update(theta, xs, ys)\n",
        "\n",
        "plt.scatter(xs, ys)\n",
        "plt.plot(xs, model(theta, xs))\n",
        "\n",
        "w, b = theta\n",
        "print(f\"w: {w:<.2f}, b: {b:<.2f}\")\n",
        "print(f\"f(x) = {w:<.2f} * x {b:<.2f}\")"
      ],
      "metadata": {
        "id": "AnciC0cYf0qS"
      },
      "execution_count": null,
      "outputs": []
    },
    {
      "cell_type": "markdown",
      "source": [
        "## What's the catch\n",
        "\n",
        "- Functional Paradigm: Needs pure functions\n",
        "- Untracked side effects\n",
        "- Inability to modify arrays\n",
        "- Explicit [PRNG handling](https://jax.readthedocs.io/en/latest/jax.random.html#prng-keys). Unlike the stateful pseudorandom number generators (PRNGs) that users of NumPy and SciPy may be accustomed to, JAX random functions all require an explicit PRNG state to be passed as a first argument. --> Be careful when you want to reproduce results."
      ],
      "metadata": {
        "id": "X379C2o9e-ct"
      }
    },
    {
      "cell_type": "markdown",
      "source": [
        "## Conclusion\n",
        "\n",
        "JAX is a very promising project and has been steadily growing in popularity, despite the learning curve introduced by its functional paradigm.\n",
        "\n",
        "- Easy to use as drop-in replacement for numpy\n",
        "- Autograd is extremelty useful for scientific computing\n",
        "- Deep Learning projects can benefit from this!\n",
        "- Huge performance improvement possible!!\n",
        "- But be careful and make sure to understand pure functions and how jit works\n",
        "- JAX is still officially considered an experimental framework. "
      ],
      "metadata": {
        "id": "xwheB9Ceh_BO"
      }
    }
  ]
}